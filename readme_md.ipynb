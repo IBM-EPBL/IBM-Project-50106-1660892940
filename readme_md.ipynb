{
  "nbformat": 4,
  "nbformat_minor": 0,
  "metadata": {
    "colab": {
      "provenance": [],
      "toc_visible": true,
      "authorship_tag": "ABX9TyM9sMOltdvt8+WCVCt3VDPr",
      "include_colab_link": true
    },
    "kernelspec": {
      "name": "python3",
      "display_name": "Python 3"
    },
    "language_info": {
      "name": "python"
    }
  },
  "cells": [
    {
      "cell_type": "markdown",
      "metadata": {
        "id": "view-in-github",
        "colab_type": "text"
      },
      "source": [
        "<a href=\"https://colab.research.google.com/github/IBM-EPBL/IBM-Project-50106-1660892940/blob/main/readme_md.ipynb\" target=\"_parent\"><img src=\"https://colab.research.google.com/assets/colab-badge.svg\" alt=\"Open In Colab\"/></a>"
      ]
    },
    {
      "cell_type": "code",
      "execution_count": null,
      "metadata": {
        "id": "c0vNfYG3onkO"
      },
      "outputs": [],
      "source": [
        "IBM-Project-\n",
        "Smart Waste Management System For Metropolitan Cities\n",
        "City_Waste_Managment_♻️ (1) AUR last modified\n",
        "\n",
        "PROJECT DETAILS\n",
        "- TECHNOLOGY : IOT        \n",
        "- TEAM ID : PNT2022TMID38443\n",
        "TEAM MEMBERS\n",
        "Hemalath - Team Lead\n",
        "Sangeetha - Team Member\n",
        "Abirami - Team Member\n",
        "Jenifa mary-Team Member\n",
        "PROJECT DESCRIPTION:\n",
        "Garbage level detection in bins.     \n",
        "Getting the weight of the garbage in the bin.      \n",
        "Alerts the authorized person to empty the bin whenever the bins are full.     \n",
        "Garbage level of the bins can be monitored through a web App.        \n",
        "We can view the location of every bin in the web application by sending GPS location from the device.  \n",
        "TECHNICAL ARCHITECTURE\n",
        "Technical_Archtecture\n",
        "\n",
        "SKILLS REQUIRED:\n",
        "IBM Cloud,IBM Cloud Object Storage,Python,IBM Watson IoT Platform,Node-RED service,Cloudant DB.\n",
        "Note: Star The Repo, Come on....\n",
        "\n",
        "SUPPORT\n",
        "For support, email rajahemalatha824@gmail.com\n",
        "\n",
        "CONTRIBUTORS\n"
      ]
    },
    {
      "cell_type": "markdown",
      "source": [],
      "metadata": {
        "id": "KxKVlRv3or9z"
      }
    }
  ]
}